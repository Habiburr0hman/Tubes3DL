{
 "cells": [
  {
   "cell_type": "code",
   "execution_count": 20,
   "id": "d08a6b54",
   "metadata": {},
   "outputs": [],
   "source": [
    "import os\n",
    "import sys\n",
    "import time\n",
    "\n",
    "import numpy as np\n",
    "import matplotlib.pyplot as plt\n",
    "import pandas as pd\n",
    "from sklearn.metrics import confusion_matrix, f1_score\n",
    "\n",
    "import tensorflow as tf\n",
    "from tensorflow.keras.models import Sequential, load_model, Model\n",
    "from tensorflow.keras.layers import Dense, Dropout\n",
    "from tensorflow.keras.layers import Conv2D, MaxPool2D, Flatten, LeakyReLU\n",
    "from tensorflow.keras.callbacks import ModelCheckpoint, EarlyStopping, ReduceLROnPlateau, CSVLogger, Callback\n",
    "from tensorflow.keras import optimizers\n",
    "from tensorflow.keras import regularizers\n",
    "from tensorflow.keras.initializers import RandomUniform, RandomNormal\n",
    "from tensorflow.keras.models import load_model\n",
    "from tensorflow.keras import backend as K\n",
    "from tensorflow.keras.utils import get_custom_objects\n",
    "\n",
    "from sklearn.utils.class_weight import compute_class_weight\n",
    "from sklearn.preprocessing import OneHotEncoder\n",
    "from sklearn.metrics import confusion_matrix, roc_auc_score, cohen_kappa_score\n",
    "\n",
    "# from logger import logger\n",
    "# from secrets import api_key\n",
    "# from utils import download_save, seconds_to_minutes\n",
    "\n",
    "np.random.seed(89)\n",
    "tf.random.set_seed(89)"
   ]
  },
  {
   "cell_type": "code",
   "execution_count": 21,
   "id": "3b03216a",
   "metadata": {},
   "outputs": [
    {
     "name": "stdout",
     "output_type": "stream",
     "text": [
      "Training with params {'batch_size': 60, 'conv2d_layers': {'conv2d_do_1': 0.0, 'conv2d_filters_1': 30, 'conv2d_kernel_size_1': 3, 'conv2d_mp_1': 2, 'conv2d_strides_1': 1, 'kernel_regularizer_1': 0.0, 'conv2d_do_2': 0.01, 'conv2d_filters_2': 10, 'conv2d_kernel_size_2': 2, 'conv2d_mp_2': 2, 'conv2d_strides_2': 2, 'kernel_regularizer_2': 0.0, 'layers': 'one'}, 'dense_layers': {'dense_do_1': 0.01, 'dense_nodes_1': 100, 'dense_do_2': 0.07, 'dense_nodes_2': 20, 'kernel_regularizer_1': 0.0, 'layers': 'one'}, 'lr': 0.001, 'optimizer': 'adam', 'input_dim_1': 19, 'input_dim_2': 19, 'input_dim_3': 3}\n",
      "Model: \"sequential_2\"\n",
      "\n",
      "_________________________________________________________________\n",
      "\n",
      " Layer (type)                Output Shape              Param #   \n",
      "\n",
      "=================================================================\n",
      "\n",
      " conv2d_2 (Conv2D)           (None, 17, 17, 30)        840       \n",
      "\n",
      "                                                                 \n",
      "\n",
      " max_pooling2d_2 (MaxPoolin  (None, 8, 8, 30)          0         \n",
      "\n",
      " g2D)                                                            \n",
      "\n",
      "                                                                 \n",
      "\n",
      " dropout_4 (Dropout)         (None, 8, 8, 30)          0         \n",
      "\n",
      "                                                                 \n",
      "\n",
      " flatten_2 (Flatten)         (None, 1920)              0         \n",
      "\n",
      "                                                                 \n",
      "\n",
      " dense_4 (Dense)             (None, 100)               192100    \n",
      "\n",
      "                                                                 \n",
      "\n",
      " dropout_5 (Dropout)         (None, 100)               0         \n",
      "\n",
      "                                                                 \n",
      "\n",
      " dense_5 (Dense)             (None, 3)                 303       \n",
      "\n",
      "                                                                 \n",
      "\n",
      "=================================================================\n",
      "\n",
      "Total params: 193243 (754.86 KB)\n",
      "\n",
      "Trainable params: 193243 (754.86 KB)\n",
      "\n",
      "Non-trainable params: 0 (0.00 Byte)\n",
      "\n",
      "_________________________________________________________________\n",
      "\n",
      "WARNING:tensorflow:`period` argument is deprecated. Please use `save_freq` to specify the frequency in number of batches seen.\n"
     ]
    },
    {
     "name": "stderr",
     "output_type": "stream",
     "text": [
      "WARNING:tensorflow:`period` argument is deprecated. Please use `save_freq` to specify the frequency in number of batches seen.\n"
     ]
    }
   ],
   "source": [
    "def f1_weighted(y_true, y_pred):\n",
    "    y_true_class = tf.math.argmax(y_true, axis=1, output_type=tf.dtypes.int32)\n",
    "    y_pred_class = tf.math.argmax(y_pred, axis=1, output_type=tf.dtypes.int32)\n",
    "    conf_mat = tf.math.confusion_matrix(y_true_class, y_pred_class)  # can use conf_mat[0, :], tf.slice()\n",
    "    # precision = TP/TP+FP, recall = TP/TP+FN\n",
    "    rows, cols = conf_mat.get_shape()\n",
    "    size = y_true_class.get_shape()[0]\n",
    "    precision = tf.constant([0, 0, 0])  # change this to use rows/cols as size\n",
    "    recall = tf.constant([0, 0, 0])\n",
    "    class_counts = tf.constant([0, 0, 0])\n",
    "\n",
    "    def get_precision(i, conf_mat):\n",
    "        print(\"prec check\", conf_mat, conf_mat[i, i], tf.reduce_sum(conf_mat[:, i]))\n",
    "        precision[i].assign(conf_mat[i, i] / tf.reduce_sum(conf_mat[:, i]))\n",
    "        recall[i].assign(conf_mat[i, i] / tf.reduce_sum(conf_mat[i, :]))\n",
    "        tf.add(i, 1)\n",
    "        return i, conf_mat, precision, recall\n",
    "\n",
    "    def tf_count(i):\n",
    "        elements_equal_to_value = tf.equal(y_true_class, i)\n",
    "        as_ints = tf.cast(elements_equal_to_value, tf.int32)\n",
    "        count = tf.reduce_sum(as_ints)\n",
    "        class_counts[i].assign(count)\n",
    "        tf.add(i, 1)\n",
    "        return count\n",
    "\n",
    "    def condition(i, conf_mat):\n",
    "        return tf.less(i, 3)\n",
    "\n",
    "    i = tf.constant(3)\n",
    "    i, conf_mat = tf.while_loop(condition, get_precision, [i, conf_mat])\n",
    "\n",
    "    i = tf.constant(3)\n",
    "    c = lambda i: tf.less(i, 3)\n",
    "    b = tf_count(i)\n",
    "    tf.while_loop(c, b, [i])\n",
    "\n",
    "    weights = tf.math.divide(class_counts, size)\n",
    "    numerators = tf.math.multiply(tf.math.multiply(precision, recall), tf.constant(2))\n",
    "    denominators = tf.math.add(precision, recall)\n",
    "    f1s = tf.math.divide(numerators, denominators)\n",
    "    weighted_f1 = tf.reduce_sum(tf.math.multiply(f1s, weights))\n",
    "    return weighted_f1\n",
    "\n",
    "\n",
    "def f1_metric(y_true, y_pred):\n",
    "    \"\"\"\n",
    "    this calculates precision & recall\n",
    "    \"\"\"\n",
    "\n",
    "    def recall(y_true, y_pred):\n",
    "        true_positives = K.sum(K.round(K.clip(y_true * y_pred, 0, 1)))  # mistake: y_pred of 0.3 is also considered 1\n",
    "        possible_positives = K.sum(K.round(K.clip(y_true, 0, 1)))\n",
    "        recall = true_positives / (possible_positives + K.epsilon())\n",
    "        return recall\n",
    "\n",
    "    def precision(y_true, y_pred):\n",
    "        true_positives = K.sum(K.round(K.clip(y_true * y_pred, 0, 1)))\n",
    "        predicted_positives = K.sum(K.round(K.clip(y_pred, 0, 1)))\n",
    "        precision = true_positives / (predicted_positives + K.epsilon())\n",
    "        return precision\n",
    "\n",
    "    precision = precision(y_true, y_pred)\n",
    "    recall = recall(y_true, y_pred)\n",
    "    # y_true_class = tf.math.argmax(y_true, axis=1, output_type=tf.dtypes.int32)\n",
    "    # y_pred_class = tf.math.argmax(y_pred, axis=1, output_type=tf.dtypes.int32)\n",
    "    # conf_mat = tf.math.confusion_matrix(y_true_class, y_pred_class)\n",
    "    # tf.Print(conf_mat, [conf_mat], \"confusion_matrix\")\n",
    "\n",
    "    return 2 * ((precision * recall) / (precision + recall + K.epsilon()))\n",
    "\n",
    "\n",
    "get_custom_objects().update({\"f1_metric\": f1_metric, \"f1_weighted\": f1_weighted})\n",
    "\n",
    "params = {'batch_size': 60, 'conv2d_layers': {'conv2d_do_1': 0.0, 'conv2d_filters_1': 30,\n",
    "                                               'conv2d_kernel_size_1': 3, 'conv2d_mp_1': 2, 'conv2d_strides_1': 1,\n",
    "                                               'kernel_regularizer_1':0.0, 'conv2d_do_2': 0.01, 'conv2d_filters_2': 10,\n",
    "                                               'conv2d_kernel_size_2': 2, 'conv2d_mp_2': 2, 'conv2d_strides_2': 2,\n",
    "                                               'kernel_regularizer_2':0.0, 'layers': 'one'},\n",
    "           'dense_layers': {'dense_do_1': 0.01, 'dense_nodes_1': 100, 'dense_do_2': 0.07, 'dense_nodes_2': 20, \n",
    "                            'kernel_regularizer_1':0.0, 'layers': 'one'}, \n",
    "          'lr': 0.001, 'optimizer': 'adam', 'input_dim_1': 19, 'input_dim_2': 19, 'input_dim_3': 3}\n",
    "\n",
    "\n",
    "def create_model_cnn(params):\n",
    "    model = Sequential()\n",
    "\n",
    "    print(\"Training with params {}\".format(params))\n",
    "    # (batch_size, timesteps, data_dim)\n",
    "    # x_train, y_train = get_data_cnn(df, df.head(1).iloc[0][\"timestamp\"])[0:2]\n",
    "    conv2d_layer1 = Conv2D(params[\"conv2d_layers\"][\"conv2d_filters_1\"],\n",
    "                           params[\"conv2d_layers\"][\"conv2d_kernel_size_1\"],\n",
    "                           strides=params[\"conv2d_layers\"][\"conv2d_strides_1\"],\n",
    "                           kernel_regularizer=regularizers.l2(params[\"conv2d_layers\"][\"kernel_regularizer_1\"]),\n",
    "                           padding='valid', activation=\"relu\", use_bias=True,\n",
    "                           kernel_initializer='glorot_uniform',\n",
    "                           input_shape=(params['input_dim_1'],\n",
    "                                        params['input_dim_2'], params['input_dim_3']))\n",
    "    model.add(conv2d_layer1)\n",
    "    if params[\"conv2d_layers\"]['conv2d_mp_1'] >= 0:\n",
    "        model.add(MaxPool2D(pool_size=2))\n",
    "    model.add(Dropout(params['conv2d_layers']['conv2d_do_1']))\n",
    "    if params[\"conv2d_layers\"]['layers'] == 'two':\n",
    "        conv2d_layer2 = Conv2D(params[\"conv2d_layers\"][\"conv2d_filters_2\"],\n",
    "                               params[\"conv2d_layers\"][\"conv2d_kernel_size_2\"],\n",
    "                               strides=params[\"conv2d_layers\"][\"conv2d_strides_2\"],\n",
    "                               kernel_regularizer=regularizers.l2(params[\"conv2d_layers\"][\"kernel_regularizer_2\"]),\n",
    "                               padding='valid', activation=\"relu\", use_bias=True,\n",
    "                               kernel_initializer='glorot_uniform')\n",
    "        model.add(conv2d_layer2)\n",
    "        if params[\"conv2d_layers\"]['conv2d_mp_2'] >= 0:\n",
    "            model.add(MaxPool2D(pool_size=2))\n",
    "        model.add(Dropout(params['conv2d_layers']['conv2d_do_2']))\n",
    "\n",
    "    model.add(Flatten())\n",
    "\n",
    "    model.add(Dense(params['dense_layers'][\"dense_nodes_1\"], activation='relu'))\n",
    "    model.add(Dropout(params['dense_layers']['dense_do_1']))\n",
    "\n",
    "    if params['dense_layers'][\"layers\"] == 'two':\n",
    "        model.add(Dense(params['dense_layers'][\"dense_nodes_2\"], activation='relu',\n",
    "                        kernel_regularizer=regularizers.l2(params['dense_layers'][\"kernel_regularizer_1\"])))\n",
    "        model.add(Dropout(params['dense_layers']['dense_do_2']))\n",
    "\n",
    "    model.add(Dense(3, activation='softmax'))\n",
    "    if params[\"optimizer\"] == 'rmsprop':\n",
    "        optimizer = optimizers.legacy.RMSprop(lr=params[\"lr\"])\n",
    "    elif params[\"optimizer\"] == 'sgd':\n",
    "        optimizer = optimizers.legacy.SGD(lr=params[\"lr\"], momentum=0.9, nesterov=True)\n",
    "    elif params[\"optimizer\"] == 'adam':\n",
    "        optimizer = optimizers.legacy.Adam(learning_rate=params[\"lr\"], beta_1=0.9, beta_2=0.999, amsgrad=False)\n",
    "    model.compile(loss='categorical_crossentropy', optimizer=optimizer, metrics=['accuracy', f1_metric]) # categorical crossentropy\n",
    "    # from keras.utils.vis_utils import plot_model use this too for diagram with plot\n",
    "    model.summary(print_fn=lambda x: print(x + '\\n'))\n",
    "    return model\n",
    "\n",
    "\n",
    "def check_baseline(pred, y_test):\n",
    "    e = np.equal(pred, y_test)\n",
    "    print(\"TP class counts\", np.unique(y_test[e], return_counts=True))\n",
    "    print(\"True class counts\", np.unique(y_test, return_counts=True))\n",
    "    print(\"Pred class counts\", np.unique(pred, return_counts=True))\n",
    "    holds = np.unique(y_test, return_counts=True)[1][2]  # number 'hold' predictions\n",
    "    print(\"baseline acc:\", str((holds / len(y_test) * 100)))\n",
    "\n",
    "\n",
    "model = create_model_cnn(params)\n",
    "best_model_path = os.path.join('best_model_keras')\n",
    "es = EarlyStopping(monitor='val_loss', mode='min', verbose=1,\n",
    "                   patience=100, min_delta=0.0001)\n",
    "# csv_logger = CSVLogger(os.path.join(OUTPUT_PATH, 'log_training_batch.log'), append=True)\n",
    "rlp = ReduceLROnPlateau(monitor='val_loss', factor=0.02, patience=10, verbose=1, mode='min',\n",
    "                        min_delta=0.001, cooldown=1, min_lr=0.0001)\n",
    "mcp = ModelCheckpoint(best_model_path, monitor='val_loss', verbose=0,\n",
    "                      save_best_only=True, save_weights_only=False, mode='min', period=1)\n",
    "\n",
    "\n",
    "def plot_history(history):\n",
    "    plt.figure()\n",
    "    plt.plot(history.history['loss'])\n",
    "    plt.plot(history.history['val_loss'])\n",
    "    plt.plot(history.history['accuracy'])\n",
    "    plt.plot(history.history['val_accuracy'])\n",
    "    plt.plot(history.history['f1_metric'])\n",
    "    plt.plot(history.history['val_f1_metric'])\n",
    "    plt.title('Model Metrics')\n",
    "    plt.ylabel('Loss')\n",
    "    plt.xlabel('Epoch')\n",
    "    plt.legend(['train_loss', 'val_loss', 'train_acc', 'val_acc', 'f1', 'val_f1'], loc='upper left')\n",
    "    plt.savefig(os.path.join('plt_{}'))\n",
    "                "
   ]
  },
  {
   "cell_type": "code",
   "execution_count": 22,
   "id": "8d6ebc69",
   "metadata": {},
   "outputs": [
    {
     "data": {
      "text/plain": [
       "((3446, 19, 19, 3),\n",
       " (1478, 19, 19, 3),\n",
       " (1232, 19, 19, 3),\n",
       " (3446,),\n",
       " (1478,),\n",
       " (1232,),\n",
       " (6156,))"
      ]
     },
     "execution_count": 22,
     "metadata": {},
     "output_type": "execute_result"
    }
   ],
   "source": [
    "y = np.load('y.npy')\n",
    "\n",
    "x_train = np.load('x_train.npy')\n",
    "x_cv = np.load('x_cv.npy')\n",
    "x_test = np.load('x_test.npy')\n",
    "y_train = np.load('y_train.npy')\n",
    "y_cv = np.load('y_cv.npy')\n",
    "y_test = np.load('y_test.npy')\n",
    "\n",
    "x_train.shape, x_cv.shape, x_test.shape, y_train.shape, y_cv.shape, y_test.shape, y.shape"
   ]
  },
  {
   "cell_type": "code",
   "execution_count": 23,
   "id": "d2d9633a",
   "metadata": {},
   "outputs": [
    {
     "name": "stdout",
     "output_type": "stream",
     "text": [
      "real class weights are [5.63071895 5.71475954 0.37772663] [0 1 2]\n",
      "value_counts (array([0, 1, 2]), array([ 204,  201, 3041], dtype=int64))\n",
      "real class weights are [5.62557078 5.7037037  0.37779822] [0 1 2]\n",
      "value_counts (array([0, 1, 2]), array([  73,   72, 1087], dtype=int64))\n"
     ]
    },
    {
     "data": {
      "text/plain": [
       "array([0.37772663, 0.37772663, 0.37772663, ..., 0.37772663, 0.37772663,\n",
       "       0.37772663])"
      ]
     },
     "execution_count": 23,
     "metadata": {},
     "output_type": "execute_result"
    }
   ],
   "source": [
    "def get_sample_weights(y):\n",
    "    \"\"\"\n",
    "    calculate the sample weights based on class weights. Used for models with\n",
    "    imbalanced data and one hot encoding prediction.\n",
    "    params:\n",
    "        y: class labels as integers\n",
    "    \"\"\"\n",
    "\n",
    "    y = y.astype(int)  # compute_class_weight needs int labels\n",
    "    class_weights = compute_class_weight(class_weight='balanced', classes=np.unique(y), y=y)\n",
    "\n",
    "    print(\"real class weights are {}\".format(class_weights), np.unique(y))\n",
    "    print(\"value_counts\", np.unique(y, return_counts=True))\n",
    "    sample_weights = y.copy().astype(float)\n",
    "    for i in np.unique(y):\n",
    "        sample_weights[sample_weights == i] = class_weights[i]  # if i == 2 else 0.8 * class_weights[i]\n",
    "        # sample_weights = np.where(sample_weights == i, class_weights[int(i)], y_)\n",
    "\n",
    "    return sample_weights\n",
    "\n",
    "sample_weights = get_sample_weights(y_train)\n",
    "test_sample_weights = get_sample_weights(y_test)\n",
    "sample_weights"
   ]
  },
  {
   "cell_type": "code",
   "execution_count": 24,
   "id": "babd6fc2",
   "metadata": {},
   "outputs": [],
   "source": [
    "one_hot_encoder = OneHotEncoder(sparse_output=False, categories='auto')\n",
    "one_hot_encoder.fit(y_train.reshape(-1, 1))\n",
    "y_train = one_hot_encoder.transform(y_train.reshape(-1, 1))\n",
    "\n",
    "# one_hot_encoder = OneHotEncoder(sparse_output=False, categories='auto')\n",
    "# one_hot_encoder.fit(y_cv.reshape(-1, 1))\n",
    "y_cv = one_hot_encoder.transform(y_cv.reshape(-1, 1))\n",
    "\n",
    "# one_hot_encoder = OneHotEncoder(sparse_output=False, categories='auto')\n",
    "# one_hot_encoder.fit(y_test.reshape(-1, 1))\n",
    "y_test = one_hot_encoder.transform(y_test.reshape(-1, 1))"
   ]
  },
  {
   "cell_type": "code",
   "execution_count": 25,
   "id": "6f6e4046",
   "metadata": {},
   "outputs": [
    {
     "name": "stdout",
     "output_type": "stream",
     "text": [
      "training for batch number {}\n",
      "Epoch 1/50\n",
      "48/54 [=========================>....] - ETA: 0s - loss: 0.7328 - accuracy: 0.3870 - f1_metric: 0.2877INFO:tensorflow:Assets written to: best_model_keras\\assets\n"
     ]
    },
    {
     "name": "stderr",
     "output_type": "stream",
     "text": [
      "INFO:tensorflow:Assets written to: best_model_keras\\assets\n"
     ]
    },
    {
     "name": "stdout",
     "output_type": "stream",
     "text": [
      "54/54 [==============================] - 3s 35ms/step - loss: 0.7284 - accuracy: 0.3990 - f1_metric: 0.3103 - val_loss: 1.0596 - val_accuracy: 0.3904 - val_f1_metric: 0.3689 - lr: 0.0010\n",
      "Epoch 2/50\n",
      "48/54 [=========================>....] - ETA: 0s - loss: 0.5885 - accuracy: 0.4482 - f1_metric: 0.4322INFO:tensorflow:Assets written to: best_model_keras\\assets\n"
     ]
    },
    {
     "name": "stderr",
     "output_type": "stream",
     "text": [
      "INFO:tensorflow:Assets written to: best_model_keras\\assets\n"
     ]
    },
    {
     "name": "stdout",
     "output_type": "stream",
     "text": [
      "54/54 [==============================] - 2s 29ms/step - loss: 0.5856 - accuracy: 0.4446 - f1_metric: 0.4290 - val_loss: 0.8248 - val_accuracy: 0.5135 - val_f1_metric: 0.5206 - lr: 0.0010\n",
      "Epoch 3/50\n",
      "54/54 [==============================] - ETA: 0s - loss: 0.5585 - accuracy: 0.4753 - f1_metric: 0.4700INFO:tensorflow:Assets written to: best_model_keras\\assets\n"
     ]
    },
    {
     "name": "stderr",
     "output_type": "stream",
     "text": [
      "INFO:tensorflow:Assets written to: best_model_keras\\assets\n"
     ]
    },
    {
     "name": "stdout",
     "output_type": "stream",
     "text": [
      "54/54 [==============================] - 1s 27ms/step - loss: 0.5585 - accuracy: 0.4753 - f1_metric: 0.4700 - val_loss: 0.8011 - val_accuracy: 0.5108 - val_f1_metric: 0.5207 - lr: 0.0010\n",
      "Epoch 4/50\n",
      "54/54 [==============================] - 0s 9ms/step - loss: 0.5458 - accuracy: 0.4898 - f1_metric: 0.4882 - val_loss: 0.9530 - val_accuracy: 0.4506 - val_f1_metric: 0.4504 - lr: 0.0010\n",
      "Epoch 5/50\n",
      "54/54 [==============================] - 0s 9ms/step - loss: 0.5336 - accuracy: 0.5029 - f1_metric: 0.5018 - val_loss: 0.8373 - val_accuracy: 0.5379 - val_f1_metric: 0.5486 - lr: 0.0010\n",
      "Epoch 6/50\n",
      "54/54 [==============================] - 1s 10ms/step - loss: 0.5259 - accuracy: 0.5136 - f1_metric: 0.5119 - val_loss: 1.0091 - val_accuracy: 0.4709 - val_f1_metric: 0.4808 - lr: 0.0010\n",
      "Epoch 7/50\n",
      "54/54 [==============================] - 1s 10ms/step - loss: 0.5358 - accuracy: 0.5099 - f1_metric: 0.5079 - val_loss: 1.3868 - val_accuracy: 0.3457 - val_f1_metric: 0.3406 - lr: 0.0010\n",
      "Epoch 8/50\n",
      "49/54 [==========================>...] - ETA: 0s - loss: 0.5448 - accuracy: 0.4786 - f1_metric: 0.4773INFO:tensorflow:Assets written to: best_model_keras\\assets\n"
     ]
    },
    {
     "name": "stderr",
     "output_type": "stream",
     "text": [
      "INFO:tensorflow:Assets written to: best_model_keras\\assets\n"
     ]
    },
    {
     "name": "stdout",
     "output_type": "stream",
     "text": [
      "54/54 [==============================] - 2s 35ms/step - loss: 0.5417 - accuracy: 0.4779 - f1_metric: 0.4769 - val_loss: 0.7553 - val_accuracy: 0.5345 - val_f1_metric: 0.5453 - lr: 0.0010\n",
      "Epoch 9/50\n",
      "54/54 [==============================] - 1s 11ms/step - loss: 0.5108 - accuracy: 0.5168 - f1_metric: 0.5156 - val_loss: 0.8520 - val_accuracy: 0.5020 - val_f1_metric: 0.5084 - lr: 0.0010\n",
      "Epoch 10/50\n",
      "54/54 [==============================] - 1s 11ms/step - loss: 0.5141 - accuracy: 0.5044 - f1_metric: 0.5035 - val_loss: 0.9391 - val_accuracy: 0.4851 - val_f1_metric: 0.4979 - lr: 0.0010\n",
      "Epoch 11/50\n",
      "54/54 [==============================] - 1s 14ms/step - loss: 0.4964 - accuracy: 0.5342 - f1_metric: 0.5337 - val_loss: 1.0211 - val_accuracy: 0.4919 - val_f1_metric: 0.4904 - lr: 0.0010\n",
      "Epoch 12/50\n",
      "51/54 [===========================>..] - ETA: 0s - loss: 0.5104 - accuracy: 0.5132 - f1_metric: 0.5128INFO:tensorflow:Assets written to: best_model_keras\\assets\n"
     ]
    },
    {
     "name": "stderr",
     "output_type": "stream",
     "text": [
      "INFO:tensorflow:Assets written to: best_model_keras\\assets\n"
     ]
    },
    {
     "name": "stdout",
     "output_type": "stream",
     "text": [
      "54/54 [==============================] - 2s 35ms/step - loss: 0.5084 - accuracy: 0.5128 - f1_metric: 0.5118 - val_loss: 0.7512 - val_accuracy: 0.5372 - val_f1_metric: 0.5469 - lr: 0.0010\n",
      "Epoch 13/50\n",
      "47/54 [=========================>....] - ETA: 0s - loss: 0.4975 - accuracy: 0.5233 - f1_metric: 0.5230INFO:tensorflow:Assets written to: best_model_keras\\assets\n"
     ]
    },
    {
     "name": "stderr",
     "output_type": "stream",
     "text": [
      "INFO:tensorflow:Assets written to: best_model_keras\\assets\n"
     ]
    },
    {
     "name": "stdout",
     "output_type": "stream",
     "text": [
      "54/54 [==============================] - 1s 27ms/step - loss: 0.4927 - accuracy: 0.5258 - f1_metric: 0.5259 - val_loss: 0.6791 - val_accuracy: 0.5832 - val_f1_metric: 0.5927 - lr: 0.0010\n",
      "Epoch 14/50\n",
      "54/54 [==============================] - 1s 10ms/step - loss: 0.4803 - accuracy: 0.5270 - f1_metric: 0.5271 - val_loss: 0.7792 - val_accuracy: 0.5683 - val_f1_metric: 0.5783 - lr: 0.0010\n",
      "Epoch 15/50\n",
      "54/54 [==============================] - 1s 11ms/step - loss: 0.4895 - accuracy: 0.5392 - f1_metric: 0.5387 - val_loss: 0.9079 - val_accuracy: 0.4770 - val_f1_metric: 0.4901 - lr: 0.0010\n",
      "Epoch 16/50\n",
      "54/54 [==============================] - 1s 10ms/step - loss: 0.4884 - accuracy: 0.5221 - f1_metric: 0.5218 - val_loss: 0.9716 - val_accuracy: 0.5122 - val_f1_metric: 0.5243 - lr: 0.0010\n",
      "Epoch 17/50\n",
      "54/54 [==============================] - 1s 10ms/step - loss: 0.4956 - accuracy: 0.5313 - f1_metric: 0.5308 - val_loss: 0.9720 - val_accuracy: 0.4871 - val_f1_metric: 0.4941 - lr: 0.0010\n",
      "Epoch 18/50\n",
      "54/54 [==============================] - 1s 11ms/step - loss: 0.4920 - accuracy: 0.5174 - f1_metric: 0.5172 - val_loss: 0.7494 - val_accuracy: 0.5372 - val_f1_metric: 0.5484 - lr: 0.0010\n",
      "Epoch 19/50\n",
      "54/54 [==============================] - 1s 11ms/step - loss: 0.4733 - accuracy: 0.5476 - f1_metric: 0.5476 - val_loss: 0.9227 - val_accuracy: 0.5054 - val_f1_metric: 0.5107 - lr: 0.0010\n",
      "Epoch 20/50\n",
      "54/54 [==============================] - 1s 11ms/step - loss: 0.4742 - accuracy: 0.5366 - f1_metric: 0.5367 - val_loss: 0.9764 - val_accuracy: 0.5196 - val_f1_metric: 0.5315 - lr: 0.0010\n",
      "Epoch 21/50\n",
      "54/54 [==============================] - 1s 10ms/step - loss: 0.4765 - accuracy: 0.5325 - f1_metric: 0.5327 - val_loss: 0.7976 - val_accuracy: 0.5426 - val_f1_metric: 0.5536 - lr: 0.0010\n",
      "Epoch 22/50\n",
      "54/54 [==============================] - 1s 11ms/step - loss: 0.4595 - accuracy: 0.5409 - f1_metric: 0.5411 - val_loss: 0.8674 - val_accuracy: 0.5507 - val_f1_metric: 0.5614 - lr: 0.0010\n",
      "Epoch 23/50\n",
      "53/54 [============================>.] - ETA: 0s - loss: 0.4623 - accuracy: 0.5510 - f1_metric: 0.5510\n",
      "Epoch 23: ReduceLROnPlateau reducing learning rate to 0.0001.\n",
      "54/54 [==============================] - 1s 13ms/step - loss: 0.4606 - accuracy: 0.5514 - f1_metric: 0.5514 - val_loss: 0.8703 - val_accuracy: 0.5494 - val_f1_metric: 0.5601 - lr: 0.0010\n",
      "Epoch 24/50\n",
      "54/54 [==============================] - 1s 11ms/step - loss: 0.4452 - accuracy: 0.5624 - f1_metric: 0.5623 - val_loss: 0.7912 - val_accuracy: 0.5568 - val_f1_metric: 0.5673 - lr: 1.0000e-04\n",
      "Epoch 25/50\n",
      "54/54 [==============================] - 1s 11ms/step - loss: 0.4371 - accuracy: 0.5633 - f1_metric: 0.5631 - val_loss: 0.7757 - val_accuracy: 0.5562 - val_f1_metric: 0.5668 - lr: 1.0000e-04\n",
      "Epoch 26/50\n",
      "54/54 [==============================] - 1s 10ms/step - loss: 0.4344 - accuracy: 0.5653 - f1_metric: 0.5655 - val_loss: 0.7303 - val_accuracy: 0.5710 - val_f1_metric: 0.5809 - lr: 1.0000e-04\n",
      "Epoch 27/50\n",
      "54/54 [==============================] - 1s 11ms/step - loss: 0.4345 - accuracy: 0.5647 - f1_metric: 0.5644 - val_loss: 0.7535 - val_accuracy: 0.5609 - val_f1_metric: 0.5712 - lr: 1.0000e-04\n",
      "Epoch 28/50\n",
      "54/54 [==============================] - 1s 13ms/step - loss: 0.4343 - accuracy: 0.5673 - f1_metric: 0.5672 - val_loss: 0.7546 - val_accuracy: 0.5656 - val_f1_metric: 0.5757 - lr: 1.0000e-04\n",
      "Epoch 29/50\n",
      "54/54 [==============================] - 1s 12ms/step - loss: 0.4350 - accuracy: 0.5650 - f1_metric: 0.5651 - val_loss: 0.7498 - val_accuracy: 0.5595 - val_f1_metric: 0.5699 - lr: 1.0000e-04\n",
      "Epoch 30/50\n",
      "54/54 [==============================] - 1s 12ms/step - loss: 0.4317 - accuracy: 0.5589 - f1_metric: 0.5588 - val_loss: 0.7255 - val_accuracy: 0.5724 - val_f1_metric: 0.5822 - lr: 1.0000e-04\n",
      "Epoch 31/50\n",
      "54/54 [==============================] - 1s 11ms/step - loss: 0.4319 - accuracy: 0.5723 - f1_metric: 0.5723 - val_loss: 0.7471 - val_accuracy: 0.5670 - val_f1_metric: 0.5770 - lr: 1.0000e-04\n",
      "Epoch 32/50\n",
      "54/54 [==============================] - 1s 12ms/step - loss: 0.4333 - accuracy: 0.5615 - f1_metric: 0.5615 - val_loss: 0.7499 - val_accuracy: 0.5690 - val_f1_metric: 0.5790 - lr: 1.0000e-04\n",
      "Epoch 33/50\n",
      "54/54 [==============================] - 1s 12ms/step - loss: 0.4324 - accuracy: 0.5728 - f1_metric: 0.5727 - val_loss: 0.7561 - val_accuracy: 0.5670 - val_f1_metric: 0.5770 - lr: 1.0000e-04\n",
      "Epoch 34/50\n",
      "54/54 [==============================] - 1s 13ms/step - loss: 0.4296 - accuracy: 0.5685 - f1_metric: 0.5683 - val_loss: 0.7638 - val_accuracy: 0.5609 - val_f1_metric: 0.5712 - lr: 1.0000e-04\n",
      "Epoch 35/50\n",
      "54/54 [==============================] - 1s 11ms/step - loss: 0.4292 - accuracy: 0.5670 - f1_metric: 0.5672 - val_loss: 0.7533 - val_accuracy: 0.5677 - val_f1_metric: 0.5777 - lr: 1.0000e-04\n",
      "Epoch 36/50\n",
      "54/54 [==============================] - 1s 11ms/step - loss: 0.4286 - accuracy: 0.5737 - f1_metric: 0.5736 - val_loss: 0.7643 - val_accuracy: 0.5629 - val_f1_metric: 0.5731 - lr: 1.0000e-04\n",
      "Epoch 37/50\n",
      "54/54 [==============================] - 1s 10ms/step - loss: 0.4289 - accuracy: 0.5720 - f1_metric: 0.5717 - val_loss: 0.7652 - val_accuracy: 0.5656 - val_f1_metric: 0.5757 - lr: 1.0000e-04\n",
      "Epoch 38/50\n",
      "54/54 [==============================] - 1s 10ms/step - loss: 0.4284 - accuracy: 0.5691 - f1_metric: 0.5687 - val_loss: 0.7549 - val_accuracy: 0.5683 - val_f1_metric: 0.5783 - lr: 1.0000e-04\n",
      "Epoch 39/50\n",
      "54/54 [==============================] - 1s 10ms/step - loss: 0.4284 - accuracy: 0.5708 - f1_metric: 0.5707 - val_loss: 0.7421 - val_accuracy: 0.5710 - val_f1_metric: 0.5809 - lr: 1.0000e-04\n",
      "Epoch 40/50\n",
      "54/54 [==============================] - 1s 14ms/step - loss: 0.4283 - accuracy: 0.5731 - f1_metric: 0.5730 - val_loss: 0.7441 - val_accuracy: 0.5683 - val_f1_metric: 0.5783 - lr: 1.0000e-04\n",
      "Epoch 41/50\n",
      "54/54 [==============================] - 1s 13ms/step - loss: 0.4276 - accuracy: 0.5699 - f1_metric: 0.5698 - val_loss: 0.7181 - val_accuracy: 0.5812 - val_f1_metric: 0.5907 - lr: 1.0000e-04\n",
      "Epoch 42/50\n",
      "54/54 [==============================] - 1s 12ms/step - loss: 0.4255 - accuracy: 0.5723 - f1_metric: 0.5724 - val_loss: 0.7182 - val_accuracy: 0.5785 - val_f1_metric: 0.5881 - lr: 1.0000e-04\n",
      "Epoch 43/50\n",
      "50/54 [==========================>...] - ETA: 0s - loss: 0.4287 - accuracy: 0.5656 - f1_metric: 0.5656INFO:tensorflow:Assets written to: best_model_keras\\assets\n"
     ]
    },
    {
     "name": "stderr",
     "output_type": "stream",
     "text": [
      "INFO:tensorflow:Assets written to: best_model_keras\\assets\n"
     ]
    },
    {
     "name": "stdout",
     "output_type": "stream",
     "text": [
      "54/54 [==============================] - 2s 35ms/step - loss: 0.4239 - accuracy: 0.5720 - f1_metric: 0.5721 - val_loss: 0.6763 - val_accuracy: 0.5893 - val_f1_metric: 0.5985 - lr: 1.0000e-04\n",
      "Epoch 44/50\n",
      "54/54 [==============================] - 1s 10ms/step - loss: 0.4276 - accuracy: 0.5763 - f1_metric: 0.5765 - val_loss: 0.7445 - val_accuracy: 0.5704 - val_f1_metric: 0.5803 - lr: 1.0000e-04\n",
      "Epoch 45/50\n",
      "54/54 [==============================] - 1s 10ms/step - loss: 0.4248 - accuracy: 0.5734 - f1_metric: 0.5734 - val_loss: 0.7566 - val_accuracy: 0.5690 - val_f1_metric: 0.5790 - lr: 1.0000e-04\n",
      "Epoch 46/50\n",
      "54/54 [==============================] - 1s 11ms/step - loss: 0.4225 - accuracy: 0.5775 - f1_metric: 0.5772 - val_loss: 0.7345 - val_accuracy: 0.5798 - val_f1_metric: 0.5894 - lr: 1.0000e-04\n",
      "Epoch 47/50\n",
      "54/54 [==============================] - 1s 11ms/step - loss: 0.4245 - accuracy: 0.5731 - f1_metric: 0.5732 - val_loss: 0.7271 - val_accuracy: 0.5778 - val_f1_metric: 0.5875 - lr: 1.0000e-04\n",
      "Epoch 48/50\n",
      "54/54 [==============================] - 1s 10ms/step - loss: 0.4215 - accuracy: 0.5847 - f1_metric: 0.5845 - val_loss: 0.7717 - val_accuracy: 0.5670 - val_f1_metric: 0.5770 - lr: 1.0000e-04\n",
      "Epoch 49/50\n",
      "54/54 [==============================] - 1s 11ms/step - loss: 0.4219 - accuracy: 0.5763 - f1_metric: 0.5762 - val_loss: 0.7698 - val_accuracy: 0.5704 - val_f1_metric: 0.5803 - lr: 1.0000e-04\n",
      "Epoch 50/50\n",
      "50/54 [==========================>...] - ETA: 0s - loss: 0.4197 - accuracy: 0.5766 - f1_metric: 0.5766INFO:tensorflow:Assets written to: best_model_keras\\assets\n"
     ]
    },
    {
     "name": "stderr",
     "output_type": "stream",
     "text": [
      "INFO:tensorflow:Assets written to: best_model_keras\\assets\n"
     ]
    },
    {
     "name": "stdout",
     "output_type": "stream",
     "text": [
      "54/54 [==============================] - 2s 37ms/step - loss: 0.4220 - accuracy: 0.5775 - f1_metric: 0.5775 - val_loss: 0.6758 - val_accuracy: 0.5913 - val_f1_metric: 0.6005 - lr: 1.0000e-04\n",
      "Best val_loss is 0.6758137345314026 and corresponding train_loss is 0.4220457077026367\n",
      "39/39 [==============================] - 0s 3ms/step - loss: 0.6886 - accuracy: 0.5877 - f1_metric: 0.5873\n",
      "Complete training finished in 40.19350004196167\n"
     ]
    },
    {
     "data": {
      "image/png": "[encoded data removed]",
      "text/plain": [
       "<Figure size 432x288 with 1 Axes>"
      ]
     },
     "metadata": {
      "needs_background": "light"
     },
     "output_type": "display_data"
    }
   ],
   "source": [
    "print(\"training for batch number {}\")\n",
    "\n",
    "start_time = time.time()\n",
    "history = model.fit(x_train, y_train, epochs=50, verbose=1,\n",
    "                    batch_size=64, shuffle=True,\n",
    "                    validation_data=(x_cv, y_cv),\n",
    "                    callbacks=[es, mcp, rlp], \n",
    "                    sample_weight=sample_weights)\n",
    "\n",
    "\n",
    "plot_history(history)\n",
    "min_arg = np.argmin(np.array(history.history['val_loss']))\n",
    "print(\"Best val_loss is {} and corresponding train_loss is {}\".format(\n",
    "    history.history['val_loss'][min_arg], history.history['loss'][min_arg]))\n",
    "test_res = model.evaluate(x_test, y_test, verbose=1)\n",
    "\n",
    "print(\"Complete training finished in {}\".format((time.time() - start_time)))"
   ]
  },
  {
   "cell_type": "code",
   "execution_count": 28,
   "id": "b2d8ea82",
   "metadata": {},
   "outputs": [
    {
     "name": "stdout",
     "output_type": "stream",
     "text": [
      "keras evaluate result:  [0.6886117458343506, 0.5876623392105103, 0.5873396992683411]\n",
      "39/39 [==============================] - 0s 3ms/step\n",
      "TP class counts (array([0, 1, 2], dtype=int64), array([ 64,  63, 597], dtype=int64))\n",
      "True class counts (array([0, 1, 2], dtype=int64), array([  73,   72, 1087], dtype=int64))\n",
      "Pred class counts (array([0, 1, 2], dtype=int64), array([317, 300, 615], dtype=int64))\n",
      "baseline acc: 88.23051948051948\n",
      "[[ 64   0   9]\n",
      " [  0  63   9]\n",
      " [253 237 597]]\n",
      "F1 score (weighted) 0.7594718161193331\n",
      "F1 score (macro) 0.4561474733985253\n",
      "F1 score (micro) 0.7669767866819577\n",
      "cohen's Kappa 0.22213135333056588\n",
      "Recall of class 0 = 0.88\n",
      "Recall of class 1 = 0.88\n",
      "Recall of class 2 = 0.55\n",
      "Recall avg 0.77\n"
     ]
    }
   ],
   "source": [
    "print(\"keras evaluate result: \", test_res)\n",
    "pred = model.predict(x_test)\n",
    "pred_classes = np.argmax(pred, axis=1)\n",
    "y_test_classes = np.argmax(y_test, axis=1)\n",
    "check_baseline(pred_classes, y_test_classes)\n",
    "conf_mat = confusion_matrix(y_test_classes, pred_classes)\n",
    "print(conf_mat)\n",
    "labels = [0,1,2]\n",
    "\n",
    "f1_weighted = f1_score(y_test_classes, pred_classes, labels=None, \n",
    "         average='weighted', sample_weight=test_sample_weights)\n",
    "print(\"F1 score (weighted)\", f1_weighted)\n",
    "print(\"F1 score (macro)\", f1_score(y_test_classes, pred_classes, labels=None, \n",
    "         average='macro', sample_weight=None))\n",
    "print(\"F1 score (micro)\", f1_score(y_test_classes, pred_classes, labels=None, \n",
    "         average='micro', sample_weight=test_sample_weights))  # weighted and micro preferred in case of imbalance\n",
    "\n",
    "# https://scikit-learn.org/stable/modules/model_evaluation.html#cohen-s-kappa --> supports multiclass; ref: https://stats.stackexchange.com/questions/82162/cohens-kappa-in-plain-english\n",
    "print(\"cohen's Kappa\", cohen_kappa_score(y_test_classes, pred_classes))\n",
    "\n",
    "recall = []\n",
    "for i, row in enumerate(conf_mat):\n",
    "    recall.append(np.round(row[i]/np.sum(row), 2))\n",
    "    print(\"Recall of class {} = {}\".format(i, recall[i]))\n",
    "print(\"Recall avg\", sum(recall)/len(recall))"
   ]
  },
  {
   "cell_type": "code",
   "execution_count": 30,
   "id": "985161e3",
   "metadata": {},
   "outputs": [
    {
     "name": "stderr",
     "output_type": "stream",
     "text": [
      "C:\\Users\\Habiburrohman\\AppData\\Roaming\\Python\\Python310\\site-packages\\keras\\src\\engine\\training.py:3103: UserWarning: You are saving your model as an HDF5 file via `model.save()`. This file format is considered legacy. We recommend using instead the native Keras format, e.g. `model.save('my_model.keras')`.\n",
      "  saving_api.save_model(\n"
     ]
    }
   ],
   "source": [
    "model.save('my_model.h5')\n",
    "model.save('my_model.keras')"
   ]
  },
  {
   "cell_type": "code",
   "execution_count": null,
   "id": "911ffea1",
   "metadata": {},
   "outputs": [],
   "source": []
  }
 ],
 "metadata": {
  "kernelspec": {
   "display_name": "Python 3 (ipykernel)",
   "language": "python",
   "name": "python3"
  },
  "language_info": {
   "codemirror_mode": {
    "name": "ipython",
    "version": 3
   },
   "file_extension": ".py",
   "mimetype": "text/x-python",
   "name": "python",
   "nbconvert_exporter": "python",
   "pygments_lexer": "ipython3",
   "version": "3.10.4"
  }
 },
 "nbformat": 4,
 "nbformat_minor": 5
}
